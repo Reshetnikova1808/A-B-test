{
 "cells": [
  {
   "cell_type": "markdown",
   "metadata": {},
   "source": [
    "Импортируем необходимые библиотеки"
   ]
  },
  {
   "cell_type": "code",
   "execution_count": 2,
   "metadata": {},
   "outputs": [],
   "source": [
    "import pandas as pd\n",
    "import seaborn as sns\n",
    "import matplotlib.pyplot as plt\n",
    "from scipy.stats import norm\n",
    "import numpy as np\n",
    "from tqdm.auto import tqdm\n",
    "from scipy import stats\n",
    "import requests\n",
    "from urllib.parse import urlencode\n",
    "from tqdm.auto import tqdm\n",
    "\n",
    "import pandahouse as ph\n",
    "\n",
    "%matplotlib inline "
   ]
  },
  {
   "cell_type": "markdown",
   "metadata": {},
   "source": [
    "## A/B–тестирование"
   ]
  },
  {
   "cell_type": "markdown",
   "metadata": {},
   "source": [
    "Условие:\n",
    "\n",
    "Одной из основных задач аналитика в нашей команде является корректное проведение экспериментов. Для этого мы применяем метод \n",
    "A/B–тестирования. В ходе тестирования одной гипотезы целевой группе была предложена новая механика оплаты услуг на сайте, \n",
    "у контрольной группы оставалась базовая механика. В качестве задания Вам необходимо проанализировать итоги эксперимента и \n",
    "сделать вывод, стоит ли запускать новую механику оплаты на всех пользователей."
   ]
  },
  {
   "cell_type": "markdown",
   "metadata": {},
   "source": [
    "Входные данные\n",
    "\n",
    "В качестве входных данных Вы имеете 4 csv-файла:    \n",
    "    \n",
    "Считаем файлы и запишем их в переменные."
   ]
  },
  {
   "cell_type": "code",
   "execution_count": 5,
   "metadata": {},
   "outputs": [],
   "source": [
    "def yandex_data(public_key):\n",
    "    base_url = 'https://cloud-api.yandex.net/v1/disk/public/resources/download?'\n",
    "    final_url = base_url + urlencode(dict(public_key=public_key))\n",
    "    response = requests.get(final_url) \n",
    "    download_url = response.json()['href'] \n",
    "    return download_url"
   ]
  },
  {
   "cell_type": "code",
   "execution_count": 6,
   "metadata": {},
   "outputs": [],
   "source": [
    "groups       =  pd.read_csv(yandex_data('https://disk.yandex.ru/d/UhyYx41rTt3clQ'), sep=';')\n",
    "checks       =  pd.read_csv(yandex_data('https://disk.yandex.ru/d/pH1q-VqcxXjsVA'), sep=';') \n",
    "active_studs =  pd.read_csv(yandex_data('https://disk.yandex.ru/d/Tbs44Bm6H_FwFQ'), sep=';')\n",
    "group_add    =  pd.read_csv(yandex_data('https://disk.yandex.ru/d/5Kxrz02m3IBUwQ'), sep=',')"
   ]
  },
  {
   "cell_type": "markdown",
   "metadata": {},
   "source": [
    "Посмотрим на структуру входных данных по первым трем строкам:"
   ]
  },
  {
   "cell_type": "code",
   "execution_count": 8,
   "metadata": {},
   "outputs": [
    {
     "data": {
      "text/html": [
       "<div>\n",
       "<style scoped>\n",
       "    .dataframe tbody tr th:only-of-type {\n",
       "        vertical-align: middle;\n",
       "    }\n",
       "\n",
       "    .dataframe tbody tr th {\n",
       "        vertical-align: top;\n",
       "    }\n",
       "\n",
       "    .dataframe thead th {\n",
       "        text-align: right;\n",
       "    }\n",
       "</style>\n",
       "<table border=\"1\" class=\"dataframe\">\n",
       "  <thead>\n",
       "    <tr style=\"text-align: right;\">\n",
       "      <th></th>\n",
       "      <th>id</th>\n",
       "      <th>grp</th>\n",
       "    </tr>\n",
       "  </thead>\n",
       "  <tbody>\n",
       "    <tr>\n",
       "      <th>0</th>\n",
       "      <td>1489</td>\n",
       "      <td>B</td>\n",
       "    </tr>\n",
       "    <tr>\n",
       "      <th>1</th>\n",
       "      <td>1627</td>\n",
       "      <td>A</td>\n",
       "    </tr>\n",
       "    <tr>\n",
       "      <th>2</th>\n",
       "      <td>1768</td>\n",
       "      <td>B</td>\n",
       "    </tr>\n",
       "  </tbody>\n",
       "</table>\n",
       "</div>"
      ],
      "text/plain": [
       "     id grp\n",
       "0  1489   B\n",
       "1  1627   A\n",
       "2  1768   B"
      ]
     },
     "execution_count": 8,
     "metadata": {},
     "output_type": "execute_result"
    }
   ],
   "source": [
    "groups.head(3)"
   ]
  },
  {
   "cell_type": "code",
   "execution_count": 9,
   "metadata": {},
   "outputs": [
    {
     "data": {
      "text/html": [
       "<div>\n",
       "<style scoped>\n",
       "    .dataframe tbody tr th:only-of-type {\n",
       "        vertical-align: middle;\n",
       "    }\n",
       "\n",
       "    .dataframe tbody tr th {\n",
       "        vertical-align: top;\n",
       "    }\n",
       "\n",
       "    .dataframe thead th {\n",
       "        text-align: right;\n",
       "    }\n",
       "</style>\n",
       "<table border=\"1\" class=\"dataframe\">\n",
       "  <thead>\n",
       "    <tr style=\"text-align: right;\">\n",
       "      <th></th>\n",
       "      <th>student_id</th>\n",
       "      <th>rev</th>\n",
       "    </tr>\n",
       "  </thead>\n",
       "  <tbody>\n",
       "    <tr>\n",
       "      <th>0</th>\n",
       "      <td>1627</td>\n",
       "      <td>990.0</td>\n",
       "    </tr>\n",
       "    <tr>\n",
       "      <th>1</th>\n",
       "      <td>3185</td>\n",
       "      <td>690.0</td>\n",
       "    </tr>\n",
       "    <tr>\n",
       "      <th>2</th>\n",
       "      <td>25973</td>\n",
       "      <td>690.0</td>\n",
       "    </tr>\n",
       "  </tbody>\n",
       "</table>\n",
       "</div>"
      ],
      "text/plain": [
       "   student_id    rev\n",
       "0        1627  990.0\n",
       "1        3185  690.0\n",
       "2       25973  690.0"
      ]
     },
     "execution_count": 9,
     "metadata": {},
     "output_type": "execute_result"
    }
   ],
   "source": [
    "checks.head(3)"
   ]
  },
  {
   "cell_type": "code",
   "execution_count": 10,
   "metadata": {},
   "outputs": [
    {
     "data": {
      "text/html": [
       "<div>\n",
       "<style scoped>\n",
       "    .dataframe tbody tr th:only-of-type {\n",
       "        vertical-align: middle;\n",
       "    }\n",
       "\n",
       "    .dataframe tbody tr th {\n",
       "        vertical-align: top;\n",
       "    }\n",
       "\n",
       "    .dataframe thead th {\n",
       "        text-align: right;\n",
       "    }\n",
       "</style>\n",
       "<table border=\"1\" class=\"dataframe\">\n",
       "  <thead>\n",
       "    <tr style=\"text-align: right;\">\n",
       "      <th></th>\n",
       "      <th>student_id</th>\n",
       "    </tr>\n",
       "  </thead>\n",
       "  <tbody>\n",
       "    <tr>\n",
       "      <th>0</th>\n",
       "      <td>581585</td>\n",
       "    </tr>\n",
       "    <tr>\n",
       "      <th>1</th>\n",
       "      <td>5723133</td>\n",
       "    </tr>\n",
       "    <tr>\n",
       "      <th>2</th>\n",
       "      <td>3276743</td>\n",
       "    </tr>\n",
       "  </tbody>\n",
       "</table>\n",
       "</div>"
      ],
      "text/plain": [
       "   student_id\n",
       "0      581585\n",
       "1     5723133\n",
       "2     3276743"
      ]
     },
     "execution_count": 10,
     "metadata": {},
     "output_type": "execute_result"
    }
   ],
   "source": [
    "active_studs.head(3)"
   ]
  },
  {
   "cell_type": "code",
   "execution_count": 11,
   "metadata": {},
   "outputs": [
    {
     "data": {
      "text/html": [
       "<div>\n",
       "<style scoped>\n",
       "    .dataframe tbody tr th:only-of-type {\n",
       "        vertical-align: middle;\n",
       "    }\n",
       "\n",
       "    .dataframe tbody tr th {\n",
       "        vertical-align: top;\n",
       "    }\n",
       "\n",
       "    .dataframe thead th {\n",
       "        text-align: right;\n",
       "    }\n",
       "</style>\n",
       "<table border=\"1\" class=\"dataframe\">\n",
       "  <thead>\n",
       "    <tr style=\"text-align: right;\">\n",
       "      <th></th>\n",
       "      <th>id</th>\n",
       "      <th>grp</th>\n",
       "    </tr>\n",
       "  </thead>\n",
       "  <tbody>\n",
       "    <tr>\n",
       "      <th>0</th>\n",
       "      <td>5694584</td>\n",
       "      <td>B</td>\n",
       "    </tr>\n",
       "    <tr>\n",
       "      <th>1</th>\n",
       "      <td>5694830</td>\n",
       "      <td>B</td>\n",
       "    </tr>\n",
       "    <tr>\n",
       "      <th>2</th>\n",
       "      <td>5695057</td>\n",
       "      <td>B</td>\n",
       "    </tr>\n",
       "  </tbody>\n",
       "</table>\n",
       "</div>"
      ],
      "text/plain": [
       "        id grp\n",
       "0  5694584   B\n",
       "1  5694830   B\n",
       "2  5695057   B"
      ]
     },
     "execution_count": 11,
     "metadata": {},
     "output_type": "execute_result"
    }
   ],
   "source": [
    "group_add.head(3)"
   ]
  },
  {
   "cell_type": "markdown",
   "metadata": {},
   "source": [
    "Посмотрим на размер датафреймов"
   ]
  },
  {
   "cell_type": "code",
   "execution_count": 13,
   "metadata": {},
   "outputs": [
    {
     "data": {
      "text/plain": [
       "(74484, 2)"
      ]
     },
     "execution_count": 13,
     "metadata": {},
     "output_type": "execute_result"
    }
   ],
   "source": [
    "groups.shape"
   ]
  },
  {
   "cell_type": "code",
   "execution_count": 14,
   "metadata": {},
   "outputs": [
    {
     "data": {
      "text/plain": [
       "(541, 2)"
      ]
     },
     "execution_count": 14,
     "metadata": {},
     "output_type": "execute_result"
    }
   ],
   "source": [
    "checks.shape"
   ]
  },
  {
   "cell_type": "code",
   "execution_count": 15,
   "metadata": {},
   "outputs": [
    {
     "data": {
      "text/plain": [
       "(8341, 1)"
      ]
     },
     "execution_count": 15,
     "metadata": {},
     "output_type": "execute_result"
    }
   ],
   "source": [
    "active_studs.shape"
   ]
  },
  {
   "cell_type": "code",
   "execution_count": 16,
   "metadata": {},
   "outputs": [
    {
     "data": {
      "text/plain": [
       "(92, 2)"
      ]
     },
     "execution_count": 16,
     "metadata": {},
     "output_type": "execute_result"
    }
   ],
   "source": [
    "group_add.shape"
   ]
  },
  {
   "cell_type": "markdown",
   "metadata": {},
   "source": [
    "В датафреймах \"groups\" и \"group_add\" проверяем:\n",
    "\n",
    "    \n",
    "- количество дубликатов; \n",
    "\n",
    "\n",
    "- количество пропущенных значений."
   ]
  },
  {
   "cell_type": "code",
   "execution_count": 18,
   "metadata": {},
   "outputs": [
    {
     "data": {
      "text/plain": [
       "(0, 2)"
      ]
     },
     "execution_count": 18,
     "metadata": {},
     "output_type": "execute_result"
    }
   ],
   "source": [
    "duplicate_groups = groups[groups.duplicated(['id'])]\n",
    "duplicate_groups.shape"
   ]
  },
  {
   "cell_type": "code",
   "execution_count": 19,
   "metadata": {},
   "outputs": [
    {
     "data": {
      "text/plain": [
       "id     0\n",
       "grp    0\n",
       "dtype: int64"
      ]
     },
     "execution_count": 19,
     "metadata": {},
     "output_type": "execute_result"
    }
   ],
   "source": [
    "groups.isna().sum()"
   ]
  },
  {
   "cell_type": "code",
   "execution_count": 20,
   "metadata": {},
   "outputs": [
    {
     "data": {
      "text/plain": [
       "(0, 2)"
      ]
     },
     "execution_count": 20,
     "metadata": {},
     "output_type": "execute_result"
    }
   ],
   "source": [
    "duplicate_group_add = group_add[group_add.duplicated(['id'])]\n",
    "duplicate_group_add.shape"
   ]
  },
  {
   "cell_type": "code",
   "execution_count": 21,
   "metadata": {},
   "outputs": [
    {
     "data": {
      "text/plain": [
       "id     0\n",
       "grp    0\n",
       "dtype: int64"
      ]
     },
     "execution_count": 21,
     "metadata": {},
     "output_type": "execute_result"
    }
   ],
   "source": [
    "group_add.isna().sum()"
   ]
  },
  {
   "cell_type": "markdown",
   "metadata": {},
   "source": [
    "В датафреймах \"checks\" и  \"active_studs\" переименуем столбец \"student_id\" в \"id\""
   ]
  },
  {
   "cell_type": "code",
   "execution_count": 23,
   "metadata": {},
   "outputs": [],
   "source": [
    "checks.rename(columns={'student_id': 'id'}, inplace=True)\n",
    "active_studs.rename(columns={'student_id': 'id'}, inplace=True)"
   ]
  },
  {
   "cell_type": "markdown",
   "metadata": {},
   "source": [
    "Проверяем:\n",
    "\n",
    "- количество повторяющихся значений в \"checks\"  в колонке \"id\", по которой будет производиться объединение;\n",
    "\n",
    "- количество повторяющихся значений в \"active_studs\"  в колонке \"id\", по которой будет производиться объединение;\n",
    "\n",
    "- количество пропущенных значений."
   ]
  },
  {
   "cell_type": "code",
   "execution_count": 25,
   "metadata": {},
   "outputs": [
    {
     "data": {
      "text/plain": [
       "(0, 2)"
      ]
     },
     "execution_count": 25,
     "metadata": {},
     "output_type": "execute_result"
    }
   ],
   "source": [
    "duplicate_checks = checks[checks.duplicated(['id'])]\n",
    "duplicate_checks.shape"
   ]
  },
  {
   "cell_type": "code",
   "execution_count": 26,
   "metadata": {},
   "outputs": [
    {
     "data": {
      "text/plain": [
       "(0, 1)"
      ]
     },
     "execution_count": 26,
     "metadata": {},
     "output_type": "execute_result"
    }
   ],
   "source": [
    "duplicate_active_studs = active_studs[active_studs.duplicated(['id'])]\n",
    "duplicate_active_studs.shape"
   ]
  },
  {
   "cell_type": "code",
   "execution_count": 27,
   "metadata": {},
   "outputs": [
    {
     "data": {
      "text/plain": [
       "id     0\n",
       "rev    0\n",
       "dtype: int64"
      ]
     },
     "execution_count": 27,
     "metadata": {},
     "output_type": "execute_result"
    }
   ],
   "source": [
    "checks.isna().sum()"
   ]
  },
  {
   "cell_type": "code",
   "execution_count": 28,
   "metadata": {},
   "outputs": [
    {
     "data": {
      "text/plain": [
       "id    0\n",
       "dtype: int64"
      ]
     },
     "execution_count": 28,
     "metadata": {},
     "output_type": "execute_result"
    }
   ],
   "source": [
    "active_studs.isna().sum()"
   ]
  },
  {
   "cell_type": "markdown",
   "metadata": {},
   "source": [
    "Добавляем дополнительные колонки:"
   ]
  },
  {
   "cell_type": "code",
   "execution_count": 30,
   "metadata": {},
   "outputs": [],
   "source": [
    "group_add['added_later'] = True\n",
    "active_studs['active_studs'] = True"
   ]
  },
  {
   "cell_type": "markdown",
   "metadata": {},
   "source": [
    "Объединим датафреймы. Поскольку датафрейм \"groups_add\" был передан спустя два дня после получения \n",
    "основных данных, а о происхождении добавленных пользователей ничего неизвестно, и о периоде проведения эксперимента тоже \n",
    "то будем считать, что эти данные собирались из разных источников, но в рамках проведения эксперимента. \n",
    "Поэтому включаем пользователей из датафрейма \"groups_add\" в АБ-тест."
   ]
  },
  {
   "cell_type": "code",
   "execution_count": 32,
   "metadata": {},
   "outputs": [],
   "source": [
    "df_all = groups.merge(group_add, how='outer', on=['id', 'grp'])\n",
    "df_all = df_all.merge(active_studs, how='outer', on=['id'])\n",
    "df_all = df_all.merge(checks, how='outer', on=['id'])"
   ]
  },
  {
   "cell_type": "markdown",
   "metadata": {},
   "source": [
    "Заполняем NaN значения значениями по умолчанию:"
   ]
  },
  {
   "cell_type": "code",
   "execution_count": 34,
   "metadata": {},
   "outputs": [],
   "source": [
    "df_all['added_later'] = df_all.added_later.fillna(False)\n",
    "df_all['active_studs'] = df_all.active_studs.fillna(False)\n",
    "df_all['grp'] = df_all.grp.astype('string')"
   ]
  },
  {
   "cell_type": "markdown",
   "metadata": {},
   "source": [
    "Посмотрим на полученный датафрейм, его вид, размер, уникальные значения по столбцам:"
   ]
  },
  {
   "cell_type": "code",
   "execution_count": 36,
   "metadata": {},
   "outputs": [
    {
     "data": {
      "text/html": [
       "<div>\n",
       "<style scoped>\n",
       "    .dataframe tbody tr th:only-of-type {\n",
       "        vertical-align: middle;\n",
       "    }\n",
       "\n",
       "    .dataframe tbody tr th {\n",
       "        vertical-align: top;\n",
       "    }\n",
       "\n",
       "    .dataframe thead th {\n",
       "        text-align: right;\n",
       "    }\n",
       "</style>\n",
       "<table border=\"1\" class=\"dataframe\">\n",
       "  <thead>\n",
       "    <tr style=\"text-align: right;\">\n",
       "      <th></th>\n",
       "      <th>id</th>\n",
       "      <th>grp</th>\n",
       "      <th>added_later</th>\n",
       "      <th>active_studs</th>\n",
       "      <th>rev</th>\n",
       "    </tr>\n",
       "  </thead>\n",
       "  <tbody>\n",
       "    <tr>\n",
       "      <th>0</th>\n",
       "      <td>1489</td>\n",
       "      <td>B</td>\n",
       "      <td>False</td>\n",
       "      <td>False</td>\n",
       "      <td>NaN</td>\n",
       "    </tr>\n",
       "    <tr>\n",
       "      <th>1</th>\n",
       "      <td>1627</td>\n",
       "      <td>A</td>\n",
       "      <td>False</td>\n",
       "      <td>True</td>\n",
       "      <td>990.0</td>\n",
       "    </tr>\n",
       "    <tr>\n",
       "      <th>2</th>\n",
       "      <td>1768</td>\n",
       "      <td>B</td>\n",
       "      <td>False</td>\n",
       "      <td>False</td>\n",
       "      <td>NaN</td>\n",
       "    </tr>\n",
       "    <tr>\n",
       "      <th>3</th>\n",
       "      <td>1783</td>\n",
       "      <td>B</td>\n",
       "      <td>False</td>\n",
       "      <td>False</td>\n",
       "      <td>NaN</td>\n",
       "    </tr>\n",
       "    <tr>\n",
       "      <th>4</th>\n",
       "      <td>1794</td>\n",
       "      <td>A</td>\n",
       "      <td>False</td>\n",
       "      <td>False</td>\n",
       "      <td>NaN</td>\n",
       "    </tr>\n",
       "  </tbody>\n",
       "</table>\n",
       "</div>"
      ],
      "text/plain": [
       "     id grp  added_later  active_studs    rev\n",
       "0  1489   B        False         False    NaN\n",
       "1  1627   A        False          True  990.0\n",
       "2  1768   B        False         False    NaN\n",
       "3  1783   B        False         False    NaN\n",
       "4  1794   A        False         False    NaN"
      ]
     },
     "execution_count": 36,
     "metadata": {},
     "output_type": "execute_result"
    }
   ],
   "source": [
    "df_all.head()"
   ]
  },
  {
   "cell_type": "code",
   "execution_count": 37,
   "metadata": {},
   "outputs": [
    {
     "data": {
      "text/plain": [
       "(74576, 5)"
      ]
     },
     "execution_count": 37,
     "metadata": {},
     "output_type": "execute_result"
    }
   ],
   "source": [
    "df_all.shape"
   ]
  },
  {
   "cell_type": "code",
   "execution_count": 38,
   "metadata": {},
   "outputs": [
    {
     "data": {
      "text/plain": [
       "<StringArray>\n",
       "['B', 'A']\n",
       "Length: 2, dtype: string"
      ]
     },
     "execution_count": 38,
     "metadata": {},
     "output_type": "execute_result"
    }
   ],
   "source": [
    "df_all.grp.unique()"
   ]
  },
  {
   "cell_type": "code",
   "execution_count": 39,
   "metadata": {},
   "outputs": [
    {
     "data": {
      "text/plain": [
       "array([False,  True])"
      ]
     },
     "execution_count": 39,
     "metadata": {},
     "output_type": "execute_result"
    }
   ],
   "source": [
    "df_all.added_later.unique()"
   ]
  },
  {
   "cell_type": "code",
   "execution_count": 40,
   "metadata": {},
   "outputs": [
    {
     "data": {
      "text/plain": [
       "array([False,  True])"
      ]
     },
     "execution_count": 40,
     "metadata": {},
     "output_type": "execute_result"
    }
   ],
   "source": [
    "df_all.active_studs.unique()"
   ]
  },
  {
   "cell_type": "code",
   "execution_count": 41,
   "metadata": {},
   "outputs": [
    {
     "data": {
      "text/plain": [
       "count     541.000000\n",
       "mean     1059.752317\n",
       "std       762.712359\n",
       "min       199.000000\n",
       "25%       290.000000\n",
       "50%       840.000000\n",
       "75%      1900.000000\n",
       "max      4650.000000\n",
       "Name: rev, dtype: float64"
      ]
     },
     "execution_count": 41,
     "metadata": {},
     "output_type": "execute_result"
    }
   ],
   "source": [
    "df_all.rev.describe()"
   ]
  },
  {
   "cell_type": "markdown",
   "metadata": {},
   "source": [
    "Посмотрим на распределение по группам в датафрейме \"df_all\":"
   ]
  },
  {
   "cell_type": "code",
   "execution_count": 43,
   "metadata": {},
   "outputs": [
    {
     "data": {
      "text/plain": [
       "B    80.297951\n",
       "A    19.702049\n",
       "Name: grp, dtype: float64"
      ]
     },
     "execution_count": 43,
     "metadata": {},
     "output_type": "execute_result"
    }
   ],
   "source": [
    "df_all.grp.value_counts()/df_all.shape[0] * 100"
   ]
  },
  {
   "cell_type": "markdown",
   "metadata": {},
   "source": [
    "Проверим обе группы на нормальность распределения:"
   ]
  },
  {
   "cell_type": "code",
   "execution_count": 45,
   "metadata": {},
   "outputs": [],
   "source": [
    "test_group = df_all.query(\"grp == 'B'and rev != 'NaN'\")\n",
    "test_group_users = test_group.rev"
   ]
  },
  {
   "cell_type": "code",
   "execution_count": 46,
   "metadata": {},
   "outputs": [],
   "source": [
    "control_group = df_all.query(\"grp == 'A' and rev != 'NaN' \")\n",
    "control_group_users = control_group.rev"
   ]
  },
  {
   "cell_type": "code",
   "execution_count": 47,
   "metadata": {},
   "outputs": [
    {
     "data": {
      "text/plain": [
       "NormaltestResult(statistic=33.19587456725772, pvalue=6.18881394639434e-08)"
      ]
     },
     "execution_count": 47,
     "metadata": {},
     "output_type": "execute_result"
    }
   ],
   "source": [
    "stats.normaltest(test_group_users)"
   ]
  },
  {
   "cell_type": "code",
   "execution_count": 48,
   "metadata": {},
   "outputs": [
    {
     "data": {
      "text/plain": [
       "NormaltestResult(statistic=52.21845240353401, pvalue=4.580439316510776e-12)"
      ]
     },
     "execution_count": 48,
     "metadata": {},
     "output_type": "execute_result"
    }
   ],
   "source": [
    "stats.normaltest(control_group_users)"
   ]
  },
  {
   "cell_type": "code",
   "execution_count": 49,
   "metadata": {},
   "outputs": [
    {
     "data": {
      "text/plain": [
       "(array([127., 126.,  29., 135.,   7.,   0.,   7.,   2.,   0.,   1.]),\n",
       " array([ 199. ,  644.1, 1089.2, 1534.3, 1979.4, 2424.5, 2869.6, 3314.7,\n",
       "        3759.8, 4204.9, 4650. ]),\n",
       " <a list of 10 Patch objects>)"
      ]
     },
     "execution_count": 49,
     "metadata": {},
     "output_type": "execute_result"
    },
    {
     "data": {
      "image/png": "[encoded data removed]",
      "text/plain": [
       "<Figure size 432x288 with 1 Axes>"
      ]
     },
     "metadata": {
      "needs_background": "light"
     },
     "output_type": "display_data"
    }
   ],
   "source": [
    "plt.hist(test_group_users)"
   ]
  },
  {
   "cell_type": "code",
   "execution_count": 50,
   "metadata": {},
   "outputs": [
    {
     "data": {
      "text/plain": [
       "(array([42., 34., 15.,  3.,  1.,  3.,  0.,  6.,  0.,  3.]),\n",
       " array([ 199. ,  545.1,  891.2, 1237.3, 1583.4, 1929.5, 2275.6, 2621.7,\n",
       "        2967.8, 3313.9, 3660. ]),\n",
       " <a list of 10 Patch objects>)"
      ]
     },
     "execution_count": 50,
     "metadata": {},
     "output_type": "execute_result"
    },
    {
     "data": {
      "image/png": "[encoded data removed]",
      "text/plain": [
       "<Figure size 432x288 with 1 Axes>"
      ]
     },
     "metadata": {
      "needs_background": "light"
     },
     "output_type": "display_data"
    }
   ],
   "source": [
    "plt.hist(control_group_users)"
   ]
  },
  {
   "cell_type": "markdown",
   "metadata": {},
   "source": [
    "Группы поделены не равномерно между собой. У группы B явный перекос в бОльшую сторону по количеству пользователей \n",
    "(80,2% - группа B, 19.7% группа А).\n",
    "\n",
    "В обеих группах распределения не являются нормальными, потому что p < 0.05"
   ]
  },
  {
   "cell_type": "markdown",
   "metadata": {},
   "source": [
    "Посмотрим показатели статистики по группе \"А\" (контроль, базовая механика):"
   ]
  },
  {
   "cell_type": "code",
   "execution_count": 53,
   "metadata": {},
   "outputs": [
    {
     "data": {
      "text/html": [
       "<div>\n",
       "<style scoped>\n",
       "    .dataframe tbody tr th:only-of-type {\n",
       "        vertical-align: middle;\n",
       "    }\n",
       "\n",
       "    .dataframe tbody tr th {\n",
       "        vertical-align: top;\n",
       "    }\n",
       "\n",
       "    .dataframe thead th {\n",
       "        text-align: right;\n",
       "    }\n",
       "</style>\n",
       "<table border=\"1\" class=\"dataframe\">\n",
       "  <thead>\n",
       "    <tr style=\"text-align: right;\">\n",
       "      <th></th>\n",
       "      <th>id</th>\n",
       "      <th>rev</th>\n",
       "    </tr>\n",
       "  </thead>\n",
       "  <tbody>\n",
       "    <tr>\n",
       "      <th>count</th>\n",
       "      <td>1.469300e+04</td>\n",
       "      <td>107.000000</td>\n",
       "    </tr>\n",
       "    <tr>\n",
       "      <th>mean</th>\n",
       "      <td>2.170392e+06</td>\n",
       "      <td>860.710280</td>\n",
       "    </tr>\n",
       "    <tr>\n",
       "      <th>std</th>\n",
       "      <td>3.220791e+06</td>\n",
       "      <td>815.893445</td>\n",
       "    </tr>\n",
       "    <tr>\n",
       "      <th>min</th>\n",
       "      <td>1.627000e+03</td>\n",
       "      <td>199.000000</td>\n",
       "    </tr>\n",
       "    <tr>\n",
       "      <th>25%</th>\n",
       "      <td>9.201290e+05</td>\n",
       "      <td>290.000000</td>\n",
       "    </tr>\n",
       "    <tr>\n",
       "      <th>50%</th>\n",
       "      <td>1.655923e+06</td>\n",
       "      <td>690.000000</td>\n",
       "    </tr>\n",
       "    <tr>\n",
       "      <th>75%</th>\n",
       "      <td>3.320695e+06</td>\n",
       "      <td>990.000000</td>\n",
       "    </tr>\n",
       "    <tr>\n",
       "      <th>max</th>\n",
       "      <td>2.002478e+08</td>\n",
       "      <td>3660.000000</td>\n",
       "    </tr>\n",
       "  </tbody>\n",
       "</table>\n",
       "</div>"
      ],
      "text/plain": [
       "                 id          rev\n",
       "count  1.469300e+04   107.000000\n",
       "mean   2.170392e+06   860.710280\n",
       "std    3.220791e+06   815.893445\n",
       "min    1.627000e+03   199.000000\n",
       "25%    9.201290e+05   290.000000\n",
       "50%    1.655923e+06   690.000000\n",
       "75%    3.320695e+06   990.000000\n",
       "max    2.002478e+08  3660.000000"
      ]
     },
     "execution_count": 53,
     "metadata": {},
     "output_type": "execute_result"
    }
   ],
   "source": [
    "df_all[df_all.grp == 'A'].describe()"
   ]
  },
  {
   "cell_type": "markdown",
   "metadata": {},
   "source": [
    "Посмотрим показатели статистики по группе \"B\" (целевая, новая механика):"
   ]
  },
  {
   "cell_type": "code",
   "execution_count": 55,
   "metadata": {},
   "outputs": [
    {
     "data": {
      "text/html": [
       "<div>\n",
       "<style scoped>\n",
       "    .dataframe tbody tr th:only-of-type {\n",
       "        vertical-align: middle;\n",
       "    }\n",
       "\n",
       "    .dataframe tbody tr th {\n",
       "        vertical-align: top;\n",
       "    }\n",
       "\n",
       "    .dataframe thead th {\n",
       "        text-align: right;\n",
       "    }\n",
       "</style>\n",
       "<table border=\"1\" class=\"dataframe\">\n",
       "  <thead>\n",
       "    <tr style=\"text-align: right;\">\n",
       "      <th></th>\n",
       "      <th>id</th>\n",
       "      <th>rev</th>\n",
       "    </tr>\n",
       "  </thead>\n",
       "  <tbody>\n",
       "    <tr>\n",
       "      <th>count</th>\n",
       "      <td>5.988300e+04</td>\n",
       "      <td>434.000000</td>\n",
       "    </tr>\n",
       "    <tr>\n",
       "      <th>mean</th>\n",
       "      <td>2.164445e+06</td>\n",
       "      <td>1108.824893</td>\n",
       "    </tr>\n",
       "    <tr>\n",
       "      <th>std</th>\n",
       "      <td>2.669793e+06</td>\n",
       "      <td>741.834304</td>\n",
       "    </tr>\n",
       "    <tr>\n",
       "      <th>min</th>\n",
       "      <td>1.489000e+03</td>\n",
       "      <td>199.000000</td>\n",
       "    </tr>\n",
       "    <tr>\n",
       "      <th>25%</th>\n",
       "      <td>9.196960e+05</td>\n",
       "      <td>420.750000</td>\n",
       "    </tr>\n",
       "    <tr>\n",
       "      <th>50%</th>\n",
       "      <td>1.676292e+06</td>\n",
       "      <td>935.000000</td>\n",
       "    </tr>\n",
       "    <tr>\n",
       "      <th>75%</th>\n",
       "      <td>3.328984e+06</td>\n",
       "      <td>1900.000000</td>\n",
       "    </tr>\n",
       "    <tr>\n",
       "      <th>max</th>\n",
       "      <td>2.010677e+08</td>\n",
       "      <td>4650.000000</td>\n",
       "    </tr>\n",
       "  </tbody>\n",
       "</table>\n",
       "</div>"
      ],
      "text/plain": [
       "                 id          rev\n",
       "count  5.988300e+04   434.000000\n",
       "mean   2.164445e+06  1108.824893\n",
       "std    2.669793e+06   741.834304\n",
       "min    1.489000e+03   199.000000\n",
       "25%    9.196960e+05   420.750000\n",
       "50%    1.676292e+06   935.000000\n",
       "75%    3.328984e+06  1900.000000\n",
       "max    2.010677e+08  4650.000000"
      ]
     },
     "execution_count": 55,
     "metadata": {},
     "output_type": "execute_result"
    }
   ],
   "source": [
    "df_all[df_all.grp == 'B'].describe()"
   ]
  },
  {
   "cell_type": "markdown",
   "metadata": {},
   "source": [
    "Построим боксплот распределения покупок по группам среди всех пользователей:"
   ]
  },
  {
   "cell_type": "code",
   "execution_count": 57,
   "metadata": {},
   "outputs": [
    {
     "data": {
      "image/png": "[encoded data removed]",
      "text/plain": [
       "<Figure size 1440x504 with 1 Axes>"
      ]
     },
     "metadata": {
      "needs_background": "light"
     },
     "output_type": "display_data"
    }
   ],
   "source": [
    "plt.figure(figsize=(20, 7))\n",
    "sns.boxplot(x='grp', y='rev', data=df_all.query(\"rev!=0 and rev !='NaN'\"))\n",
    "plt.xlabel('Groups')\n",
    "plt.ylabel('Revenue')\n",
    "plt.title(\"Group purchases\")\n",
    "plt.show()"
   ]
  },
  {
   "cell_type": "markdown",
   "metadata": {},
   "source": [
    "Посмотрим на распределение оплат с помощью графика \"histplot\":"
   ]
  },
  {
   "cell_type": "code",
   "execution_count": 59,
   "metadata": {},
   "outputs": [
    {
     "data": {
      "text/plain": [
       "<matplotlib.axes._subplots.AxesSubplot at 0x7fa590374588>"
      ]
     },
     "execution_count": 59,
     "metadata": {},
     "output_type": "execute_result"
    },
    {
     "data": {
      "image/png": "[encoded data removed]",
      "text/plain": [
       "<Figure size 432x288 with 1 Axes>"
      ]
     },
     "metadata": {
      "needs_background": "light"
     },
     "output_type": "display_data"
    }
   ],
   "source": [
    "sns.histplot(data=df_all, x=\"rev\", hue='grp', bins=20)"
   ]
  },
  {
   "cell_type": "markdown",
   "metadata": {},
   "source": [
    "Распределения оплат выглядят явно не равномерными, не унимодальными, имеют выбросы.\n",
    "\n",
    "Из графиков боксплот мы видим, что в наших данных есть выбросы, значит применение Т-критерия \n",
    "будет не правильным (Т-критерий сравнивает средние в распределениях, а выбросы сильно влияют на значение среднего).\n",
    "\n",
    "Также из-за выбросов сравнение средних в наших выборках будет не корректно."
   ]
  },
  {
   "cell_type": "markdown",
   "metadata": {},
   "source": [
    "Посмотрим на распределения покупкак среди покупающих пользователей (датафрейм \"checks\"):"
   ]
  },
  {
   "cell_type": "code",
   "execution_count": 62,
   "metadata": {},
   "outputs": [
    {
     "data": {
      "image/png": "[encoded data removed]",
      "text/plain": [
       "<Figure size 1440x504 with 1 Axes>"
      ]
     },
     "metadata": {
      "needs_background": "light"
     },
     "output_type": "display_data"
    }
   ],
   "source": [
    "plt.figure(figsize=(20, 7))\n",
    "sns.histplot(x='rev', data=checks)\n",
    "plt.xlabel('Revenue')\n",
    "plt.ylabel('Count')\n",
    "plt.title(\"Histogram of revenue\")\n",
    "plt.show()"
   ]
  },
  {
   "cell_type": "markdown",
   "metadata": {},
   "source": [
    "Из графиков видно, что распределения далеки от нормальных, а значит применение Т-теста недопустимо.\n",
    "В данной ситуации считаем оптимальным применение методом Бутсрапа."
   ]
  },
  {
   "cell_type": "markdown",
   "metadata": {},
   "source": [
    "Проверяемые гипотезы:\n",
    "## H0 - средний чек и ARPU одинаковые в обеих группах\n",
    "## H1 - средний чек и ARPU отличаются в обеих группах"
   ]
  },
  {
   "cell_type": "markdown",
   "metadata": {},
   "source": [
    "Отфильтруем пользователей для АБ-теста.\n",
    "\n",
    "Нам нужны пользователи:\n",
    "\n",
    "1. которые заходили в приложение во время эксперимента.\n",
    "\n",
    "2. которые совершали оплату во время эксперимента."
   ]
  },
  {
   "cell_type": "code",
   "execution_count": 66,
   "metadata": {},
   "outputs": [
    {
     "data": {
      "text/html": [
       "<div>\n",
       "<style scoped>\n",
       "    .dataframe tbody tr th:only-of-type {\n",
       "        vertical-align: middle;\n",
       "    }\n",
       "\n",
       "    .dataframe tbody tr th {\n",
       "        vertical-align: top;\n",
       "    }\n",
       "\n",
       "    .dataframe thead th {\n",
       "        text-align: right;\n",
       "    }\n",
       "</style>\n",
       "<table border=\"1\" class=\"dataframe\">\n",
       "  <thead>\n",
       "    <tr style=\"text-align: right;\">\n",
       "      <th></th>\n",
       "      <th>id</th>\n",
       "      <th>grp</th>\n",
       "      <th>added_later</th>\n",
       "      <th>active_studs</th>\n",
       "      <th>rev</th>\n",
       "    </tr>\n",
       "  </thead>\n",
       "  <tbody>\n",
       "    <tr>\n",
       "      <th>1</th>\n",
       "      <td>1627</td>\n",
       "      <td>A</td>\n",
       "      <td>False</td>\n",
       "      <td>True</td>\n",
       "      <td>990.0</td>\n",
       "    </tr>\n",
       "    <tr>\n",
       "      <th>10</th>\n",
       "      <td>2085</td>\n",
       "      <td>B</td>\n",
       "      <td>False</td>\n",
       "      <td>True</td>\n",
       "      <td>NaN</td>\n",
       "    </tr>\n",
       "    <tr>\n",
       "      <th>12</th>\n",
       "      <td>2215</td>\n",
       "      <td>B</td>\n",
       "      <td>False</td>\n",
       "      <td>True</td>\n",
       "      <td>NaN</td>\n",
       "    </tr>\n",
       "  </tbody>\n",
       "</table>\n",
       "</div>"
      ],
      "text/plain": [
       "      id grp  added_later  active_studs    rev\n",
       "1   1627   A        False          True  990.0\n",
       "10  2085   B        False          True    NaN\n",
       "12  2215   B        False          True    NaN"
      ]
     },
     "execution_count": 66,
     "metadata": {},
     "output_type": "execute_result"
    }
   ],
   "source": [
    "AB_test_df = df_all.query('active_studs == True or rev.notna()')\n",
    "AB_test_df.head(3)"
   ]
  },
  {
   "cell_type": "markdown",
   "metadata": {},
   "source": [
    "Посмотрим на размер полученного датафрейма \"AB_test_df\":"
   ]
  },
  {
   "cell_type": "code",
   "execution_count": 68,
   "metadata": {},
   "outputs": [
    {
     "data": {
      "text/plain": [
       "(8490, 5)"
      ]
     },
     "execution_count": 68,
     "metadata": {},
     "output_type": "execute_result"
    }
   ],
   "source": [
    "AB_test_df.shape"
   ]
  },
  {
   "cell_type": "markdown",
   "metadata": {},
   "source": [
    "Посмотрим на распределение оплат с помощью гистограммы:"
   ]
  },
  {
   "cell_type": "code",
   "execution_count": 70,
   "metadata": {},
   "outputs": [
    {
     "data": {
      "text/plain": [
       "<matplotlib.axes._subplots.AxesSubplot at 0x7fa5905ecba8>"
      ]
     },
     "execution_count": 70,
     "metadata": {},
     "output_type": "execute_result"
    },
    {
     "data": {
      "image/png": "[encoded data removed]",
      "text/plain": [
       "<Figure size 432x288 with 1 Axes>"
      ]
     },
     "metadata": {
      "needs_background": "light"
     },
     "output_type": "display_data"
    }
   ],
   "source": [
    "sns.histplot(data=AB_test_df, x=\"rev\", hue='grp', bins=20)"
   ]
  },
  {
   "cell_type": "code",
   "execution_count": 71,
   "metadata": {},
   "outputs": [
    {
     "data": {
      "image/png": "[encoded data removed]",
      "text/plain": [
       "<Figure size 1440x720 with 1 Axes>"
      ]
     },
     "metadata": {
      "needs_background": "light"
     },
     "output_type": "display_data"
    }
   ],
   "source": [
    "plt.figure(figsize=(20, 10))\n",
    "sns.boxplot(x='grp', y='rev', data=AB_test_df)\n",
    "plt.xlabel('Groups')\n",
    "plt.ylabel('Revenue')\n",
    "plt.title(\"Group purchases\")\n",
    "plt.show()"
   ]
  },
  {
   "cell_type": "markdown",
   "metadata": {},
   "source": [
    "Посмотрим на метрики:"
   ]
  },
  {
   "cell_type": "code",
   "execution_count": 73,
   "metadata": {},
   "outputs": [
    {
     "data": {
      "text/html": [
       "<div>\n",
       "<style scoped>\n",
       "    .dataframe tbody tr th:only-of-type {\n",
       "        vertical-align: middle;\n",
       "    }\n",
       "\n",
       "    .dataframe tbody tr th {\n",
       "        vertical-align: top;\n",
       "    }\n",
       "\n",
       "    .dataframe thead th {\n",
       "        text-align: right;\n",
       "    }\n",
       "</style>\n",
       "<table border=\"1\" class=\"dataframe\">\n",
       "  <thead>\n",
       "    <tr style=\"text-align: right;\">\n",
       "      <th></th>\n",
       "      <th>CR_to_clients</th>\n",
       "      <th>mean_revenue</th>\n",
       "      <th>repeat_purchases</th>\n",
       "      <th>arppu</th>\n",
       "      <th>arpu</th>\n",
       "    </tr>\n",
       "  </thead>\n",
       "  <tbody>\n",
       "    <tr>\n",
       "      <th>A</th>\n",
       "      <td>0.068283</td>\n",
       "      <td>860.710280</td>\n",
       "      <td>1.0</td>\n",
       "      <td>860.710280</td>\n",
       "      <td>58.772176</td>\n",
       "    </tr>\n",
       "    <tr>\n",
       "      <th>B</th>\n",
       "      <td>0.062690</td>\n",
       "      <td>1108.824893</td>\n",
       "      <td>1.0</td>\n",
       "      <td>1108.824893</td>\n",
       "      <td>69.511773</td>\n",
       "    </tr>\n",
       "  </tbody>\n",
       "</table>\n",
       "</div>"
      ],
      "text/plain": [
       "   CR_to_clients  mean_revenue  repeat_purchases        arppu       arpu\n",
       "A       0.068283    860.710280               1.0   860.710280  58.772176\n",
       "B       0.062690   1108.824893               1.0  1108.824893  69.511773"
      ]
     },
     "execution_count": 73,
     "metadata": {},
     "output_type": "execute_result"
    }
   ],
   "source": [
    "metrics = pd.DataFrame()\n",
    "metrics['CR_to_clients'] = AB_test_df.groupby('grp').rev.count() / AB_test_df.groupby('grp').id.count()\n",
    "metrics['mean_revenue'] = AB_test_df.groupby('grp').rev.mean()\n",
    "metrics['repeat_purchases'] = AB_test_df.groupby('grp').rev.count() / AB_test_df.query('rev.notna()').groupby('grp').rev.count()\n",
    "metrics['arppu'] = metrics['repeat_purchases'] * AB_test_df.groupby('grp').rev.mean()\n",
    "metrics['arpu'] = metrics['CR_to_clients']*metrics['arppu']\n",
    "metrics"
   ]
  },
  {
   "cell_type": "markdown",
   "metadata": {},
   "source": [
    "Конверсия в покупателя у группы А выше, чем у группы Б. Не исключено, что причина в том, что группа А \n",
    "меньше по к-ву пользователей, чем группа Б.\n",
    "\n",
    "Для теста выберем две метрики - это средний чек и ARPU. Проведем бутстрап тесты по этим метрикам и посмотрим на результаты.\n",
    "\n",
    "Для корректного проведения теста по среднему чеку в бутстрапе мы будем игнорировать значения NaN. \n",
    "\n",
    "Для подсчета ARPU выделена отдельная функция, чтобы ARPU считалось по подвыборкам."
   ]
  },
  {
   "cell_type": "code",
   "execution_count": 75,
   "metadata": {},
   "outputs": [],
   "source": [
    "def get_bootstrap(\n",
    "    dataframe_1, # датафрейм первой выборки\n",
    "    dataframe_2, # датафрейм второй выборки\n",
    "    col_1, # название колонки первой выборки\n",
    "    col_2, # название колонки второй выборки\n",
    "    sample_count_1 = 0, # количество наблюдений для подвыборок\n",
    "    sample_count_2 = 0, # количество наблюдений для подвыборок\n",
    "    boot_it = 10000, # количество бутстрэп-подвыборок\n",
    "    statistic = 'mean', # интересующая нас статистика(среднее значение)\n",
    "    conf_level = 0.95, # уровень значимости\n",
    "    replace = True, # параметр возвращения\n",
    "    max_len = True\n",
    "):\n",
    "\n",
    "    if sample_count_1 == 0:\n",
    "        sample_count_1 = len(dataframe_1[col_1])\n",
    "    \n",
    "    if sample_count_2 == 0:\n",
    "        sample_count_2 = len(dataframe_2[col_2])\n",
    "    if max_len:\n",
    "        bootstrap_len = max([sample_count_1, sample_count_2])\n",
    "    else:\n",
    "        bootstrap_len = min([sample_count_1, sample_count_2])\n",
    "    \n",
    "    bootstrap_data = []\n",
    "    smpl_1_data = []\n",
    "    smpl_2_data = []\n",
    "    for i in tqdm(range(boot_it)): \n",
    "        if statistic == 'arpu':\n",
    "            samples_1 = arpu(dataframe_1.sample(bootstrap_len, replace=replace))\n",
    "            samples_2 = arpu(dataframe_2.sample(bootstrap_len, replace=replace))            \n",
    "        else:\n",
    "            samples_1 = np.nanmean(dataframe_1[col_1].sample(bootstrap_len, replace=replace).values)\n",
    "            samples_2 = np.nanmean(dataframe_2[col_2].sample(bootstrap_len, replace=replace).values)\n",
    "        \n",
    "        \n",
    "        bootstrap_data.append(samples_1-samples_2)\n",
    "        smpl_1_data.append(samples_1)\n",
    "        smpl_2_data.append(samples_2)\n",
    "        \n",
    "    pd_bootstrap_data = pd.DataFrame(bootstrap_data)\n",
    "        \n",
    "    left_quant = (1 - conf_level)/2\n",
    "    right_quant = 1 - (1 - conf_level) / 2\n",
    "    quants = pd_bootstrap_data.quantile([left_quant, right_quant])\n",
    "        \n",
    "    p_1 = norm.cdf(\n",
    "        x = 0, \n",
    "        loc = np.nanmean(bootstrap_data), \n",
    "        scale = np.nanstd(bootstrap_data)\n",
    "    )\n",
    "    p_2 = norm.cdf(\n",
    "        x = 0, \n",
    "        loc = -np.nanmean(bootstrap_data), \n",
    "        scale = np.nanstd(bootstrap_data)\n",
    "    )\n",
    "    p_value = min(p_1, p_2) * 2\n",
    "        \n",
    "    # Визуализация\n",
    "    _, _, bars = plt.hist(pd_bootstrap_data[0], bins = 30)\n",
    "    for bar in bars:\n",
    "        if bar.get_x() <= quants.iloc[0][0] or bar.get_x() >= quants.iloc[1][0]:\n",
    "            bar.set_facecolor('blue')\n",
    "        else: \n",
    "            bar.set_facecolor('grey')\n",
    "            bar.set_edgecolor('black')\n",
    "    \n",
    "    plt.style.use('ggplot')\n",
    "    plt.vlines(quants,ymin=0,ymax=50,linestyle='--')\n",
    "    plt.xlabel('bootstrap_data')\n",
    "    plt.ylabel('frequency')\n",
    "    plt.title(\"Histogram of boot_data\")\n",
    "    plt.show()\n",
    "    \n",
    "    print('pvalue = ', p_value)\n",
    "       \n",
    "    return {\"bootstrap_data\" : bootstrap_data, \n",
    "            \"quants\" : quants, \n",
    "            \"p_value\" : p_value,\n",
    "           \"smpl_1_data\" : smpl_1_data,\n",
    "           \"smpl_2_data\" : smpl_2_data}"
   ]
  },
  {
   "cell_type": "code",
   "execution_count": 76,
   "metadata": {},
   "outputs": [],
   "source": [
    "def arpu(df):\n",
    "    repeat_purchases = df.rev.count() / df.query('rev.notna()').rev.count()\n",
    "    arppu = repeat_purchases * df.rev.mean()\n",
    "    return (df.rev.count() / df.id.count())*arppu"
   ]
  },
  {
   "cell_type": "markdown",
   "metadata": {},
   "source": [
    "Применим бутстрап к среднему чеку, max_len = False"
   ]
  },
  {
   "cell_type": "code",
   "execution_count": 78,
   "metadata": {},
   "outputs": [
    {
     "data": {
      "application/vnd.jupyter.widget-view+json": {
       "model_id": "39c11af154fa4ea3b98eb6fe10e06175",
       "version_major": 2,
       "version_minor": 0
      },
      "text/plain": [
       "HBox(children=(FloatProgress(value=0.0, max=5000.0), HTML(value='')))"
      ]
     },
     "metadata": {},
     "output_type": "display_data"
    },
    {
     "name": "stdout",
     "output_type": "stream",
     "text": [
      "\n"
     ]
    },
    {
     "data": {
      "image/png": "[encoded data removed]",
      "text/plain": [
       "<Figure size 432x288 with 1 Axes>"
      ]
     },
     "metadata": {
      "needs_background": "light"
     },
     "output_type": "display_data"
    },
    {
     "name": "stdout",
     "output_type": "stream",
     "text": [
      "pvalue =  0.9987010211498076\n"
     ]
    }
   ],
   "source": [
    "bootstraped_data = get_bootstrap(dataframe_1 = AB_test_df [AB_test_df.grp == \"A\"], col_1 = 'rev',\n",
    "                                 dataframe_2 = AB_test_df [AB_test_df.grp == \"A\"], col_2 = 'rev',\n",
    "                                 boot_it = 5000,\n",
    "                                 statistic = 'mean',\n",
    "                                 max_len = False)"
   ]
  },
  {
   "cell_type": "markdown",
   "metadata": {},
   "source": [
    "На графике (bootstraped_data) видно, что распределения разниц между средними немного пересекают отметку 0. \n",
    "\n",
    "То есть очень малое количество наблюдений из двух выборок пересекаются между собой.\n",
    "\n",
    "pvalue < уровня значимости 0.05. Это дает нам основания ОТВЕРГНУТЬ нулевую гипотезу о том, что \n",
    "новая механика оплаты услуг на сайте в группе B не отличается от старой механики, оставленной в группе A."
   ]
  },
  {
   "cell_type": "markdown",
   "metadata": {},
   "source": [
    "Применим метод Бутстрап по arpu, max_len = False"
   ]
  },
  {
   "cell_type": "code",
   "execution_count": 81,
   "metadata": {},
   "outputs": [
    {
     "data": {
      "application/vnd.jupyter.widget-view+json": {
       "model_id": "b06507a380e8426ea87af36fa39f4782",
       "version_major": 2,
       "version_minor": 0
      },
      "text/plain": [
       "HBox(children=(FloatProgress(value=0.0, max=5000.0), HTML(value='')))"
      ]
     },
     "metadata": {},
     "output_type": "display_data"
    },
    {
     "name": "stdout",
     "output_type": "stream",
     "text": [
      "\n"
     ]
    },
    {
     "data": {
      "image/png": "[encoded data removed]",
      "text/plain": [
       "<Figure size 432x288 with 1 Axes>"
      ]
     },
     "metadata": {},
     "output_type": "display_data"
    },
    {
     "name": "stdout",
     "output_type": "stream",
     "text": [
      "pvalue =  0.3447297313783054\n"
     ]
    }
   ],
   "source": [
    "bootstraped_data_arpu = get_bootstrap(dataframe_1 = AB_test_df [AB_test_df.grp == \"A\"], col_1 = 'rev',\n",
    "                                      dataframe_2 = AB_test_df [AB_test_df.grp == \"B\"], col_2 = 'rev',\n",
    "                                      boot_it = 5000, \n",
    "                                      statistic = 'arpu',\n",
    "                                      max_len = False)"
   ]
  },
  {
   "cell_type": "markdown",
   "metadata": {},
   "source": [
    "В соответствии с графиком, при сравнении распределений ARPU pvalue превысил уровень значимости в 0.05, \n",
    "что не позволяет отвергнуть нулевую гипотезу. Вероятноть того, что среднее значение ARPU группы Б \n",
    "примет среднее значение ARPU группы А достаточно велика."
   ]
  },
  {
   "cell_type": "markdown",
   "metadata": {},
   "source": [
    "Ниже приведен график распределения разниц ARPU:"
   ]
  },
  {
   "cell_type": "code",
   "execution_count": 84,
   "metadata": {},
   "outputs": [
    {
     "data": {
      "text/plain": [
       "<matplotlib.axes._subplots.AxesSubplot at 0x7fa590180940>"
      ]
     },
     "execution_count": 84,
     "metadata": {},
     "output_type": "execute_result"
    },
    {
     "data": {
      "image/png": "[encoded data removed]",
      "text/plain": [
       "<Figure size 432x288 with 1 Axes>"
      ]
     },
     "metadata": {},
     "output_type": "display_data"
    }
   ],
   "source": [
    "sns.histplot(bootstraped_data_arpu['smpl_1_data'], color='g')\n",
    "sns.histplot(bootstraped_data_arpu['smpl_2_data'], color='b')"
   ]
  },
  {
   "cell_type": "markdown",
   "metadata": {},
   "source": [
    "По графику видно, что в большинстве наблюдений ARPU в группе Б все таки выше, чем в группе А."
   ]
  },
  {
   "cell_type": "markdown",
   "metadata": {},
   "source": [
    "При импользовании метода \"bootstrap\" выше максимальное количество наблюдений бралось по количеству записей в группе А. \n",
    "Применим еще раз  бутстрап тест, но по максимальному количеству наблюдений по группе Б."
   ]
  },
  {
   "cell_type": "code",
   "execution_count": 87,
   "metadata": {},
   "outputs": [
    {
     "data": {
      "application/vnd.jupyter.widget-view+json": {
       "model_id": "41dee9c5a37546f0848216f85dbe85a5",
       "version_major": 2,
       "version_minor": 0
      },
      "text/plain": [
       "HBox(children=(FloatProgress(value=0.0, max=5000.0), HTML(value='')))"
      ]
     },
     "metadata": {},
     "output_type": "display_data"
    },
    {
     "name": "stdout",
     "output_type": "stream",
     "text": [
      "\n"
     ]
    },
    {
     "data": {
      "image/png": "[encoded data removed]",
      "text/plain": [
       "<Figure size 432x288 with 1 Axes>"
      ]
     },
     "metadata": {},
     "output_type": "display_data"
    },
    {
     "name": "stdout",
     "output_type": "stream",
     "text": [
      "pvalue =  0.04841699482431633\n"
     ]
    }
   ],
   "source": [
    "booted_data_max_B = get_bootstrap(dataframe_1 = AB_test_df [AB_test_df.grp == \"A\"], col_1 = 'rev',\n",
    "                                  dataframe_2 = AB_test_df [AB_test_df.grp == \"B\"], col_2 = 'rev',\n",
    "                                  boot_it = 5000,\n",
    "                                  statistic = 'arpu',\n",
    "                                  max_len = True)"
   ]
  },
  {
   "cell_type": "code",
   "execution_count": 88,
   "metadata": {},
   "outputs": [
    {
     "data": {
      "text/plain": [
       "<matplotlib.axes._subplots.AxesSubplot at 0x7fa5904a9278>"
      ]
     },
     "execution_count": 88,
     "metadata": {},
     "output_type": "execute_result"
    },
    {
     "data": {
      "image/png": "[encoded data removed]",
      "text/plain": [
       "<Figure size 432x288 with 1 Axes>"
      ]
     },
     "metadata": {},
     "output_type": "display_data"
    }
   ],
   "source": [
    "sns.histplot(booted_data_max_B['smpl_1_data'], color='g')\n",
    "sns.histplot(booted_data_max_B['smpl_2_data'], color='b')"
   ]
  },
  {
   "cell_type": "markdown",
   "metadata": {},
   "source": [
    "Поскольку в группе Б больше уникальных записей по сравнению с группой А, то различия \n",
    "более явно прослеживаются. pvalue не превысил уровень значимости в 0.05"
   ]
  },
  {
   "cell_type": "markdown",
   "metadata": {},
   "source": [
    "Выводы по АБ-тесту.\n",
    "Основные гипотезы:\n",
    "    \n",
    "H0 - средний чек и ARPU одинаковые в обеих группах;\n",
    "\n",
    "H1 - средний чек и ARPU отличаются в обеих группах.\n",
    "\n",
    "По Бутстрапу по среднему чеку  pvalue < 0.05, что  отвергнуть нулевую гипотезу.\n",
    "Бутстрап по ARPU и количеству наблюдений в подвыборках равному 1567 (по группе А) наблюдений показал pvalue > 0.05. \n",
    "\n",
    "Данный результат не дает основания отвергнуть нулевую гипотезу.\n",
    "Бутстрап по ARPU и количеству наблюдений в подвыборках равному 6923 (по группе Б) наблюдений показал pvalue < 0.05. \n",
    "\n",
    "Результат позволяет отвергнуть нулевую гипотезу.\n",
    "\n",
    "Рассмотрев разницу распределений метрик наглядно выявлено явное различие между группами, где показатели распределений \n",
    "в группе Б лучше, чем в группе А во всех тестах.\n",
    "\n",
    "Поэтому имеет смысл применить новую механику оплаты услуг на всех пользователей. \n",
    "\n",
    "Однако для более точного проведения АБ-тестирования нужно было выделить больше пользователей для группы А, \n",
    "потому что из-за малого количества уникальных пользователей в группе А может возникнуть ситуация, в которой тесты показали\n",
    "значимые различия, а в генеральной совокупности различий на самом деле нет."
   ]
  }
 ],
 "metadata": {
  "kernelspec": {
   "display_name": "Python 3 (ipykernel)",
   "language": "python",
   "name": "python3"
  },
  "language_info": {
   "codemirror_mode": {
    "name": "ipython",
    "version": 3
   },
   "file_extension": ".py",
   "mimetype": "text/x-python",
   "name": "python",
   "nbconvert_exporter": "python",
   "pygments_lexer": "ipython3",
   "version": "3.9.13"
  }
 },
 "nbformat": 4,
 "nbformat_minor": 4
}
